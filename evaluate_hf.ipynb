{
 "cells": [
  {
   "cell_type": "code",
   "execution_count": 5,
   "metadata": {},
   "outputs": [],
   "source": [
    "import os\n",
    "from dotenv import load_dotenv, find_dotenv\n",
    "import requests\n",
    "\n",
    "_ = load_dotenv(find_dotenv())\n",
    "\n",
    "API_URL = \"https://api-inference.huggingface.co/models/google/gemma-2b-it\"\n",
    "HF_API_KEY = os.environ.get(\"HF_API_KEY\")\n",
    "headers = {\"Authorization\": f\"Bearer {HF_API_KEY}\"}\n",
    "\n",
    "def query(payload):\n",
    "\tresponse = requests.post(API_URL, headers=headers, json=payload)\n",
    "\treturn response.json()\n",
    "\t\n",
    "output = query({\n",
    "\t\"inputs\": \"Simon decided to invest $25,500 in the stock market one day early in 2008. Six months after he invested, on July 17, the stocks he had purchased were down 20%. Fortunately for Simon, from July 17 to October 17, the stocks he had purchased went up 25%. At this point, Simon has: a. broken even in the stock market, b. is ahead of where he began, c. has lost money\",\n",
    "})"
   ]
  },
  {
   "cell_type": "code",
   "execution_count": 7,
   "metadata": {},
   "outputs": [
    {
     "data": {
      "text/plain": [
       "{'error': 'Model google/gemma-2b-it is currently loading',\n",
       " 'estimated_time': 200.49378967285156}"
      ]
     },
     "execution_count": 7,
     "metadata": {},
     "output_type": "execute_result"
    }
   ],
   "source": [
    "output"
   ]
  },
  {
   "cell_type": "code",
   "execution_count": null,
   "metadata": {},
   "outputs": [],
   "source": []
  }
 ],
 "metadata": {
  "kernelspec": {
   "display_name": ".venv",
   "language": "python",
   "name": "python3"
  },
  "language_info": {
   "codemirror_mode": {
    "name": "ipython",
    "version": 3
   },
   "file_extension": ".py",
   "mimetype": "text/x-python",
   "name": "python",
   "nbconvert_exporter": "python",
   "pygments_lexer": "ipython3",
   "version": "3.10.7"
  }
 },
 "nbformat": 4,
 "nbformat_minor": 2
}
